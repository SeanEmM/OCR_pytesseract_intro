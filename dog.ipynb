{
 "cells": [
  {
   "cell_type": "code",
   "execution_count": 32,
   "metadata": {},
   "outputs": [],
   "source": [
    "import pytesseract as tes\n",
    "import cv2\n"
   ]
  },
  {
   "cell_type": "code",
   "execution_count": 33,
   "metadata": {},
   "outputs": [],
   "source": [
    "img = cv2.imread('3.jpg')\n",
    "cv2.imshow('text',img)\n",
    "cv2.waitKey()\n",
    "cv2.destroyAllWindows()"
   ]
  },
  {
   "cell_type": "code",
   "execution_count": 34,
   "metadata": {},
   "outputs": [],
   "source": [
    "tes.pytesseract.tesseract_cmd = r\"C:\\Program Files\\Tesseract-OCR\\tesseract.exe\""
   ]
  },
  {
   "cell_type": "code",
   "execution_count": 35,
   "metadata": {},
   "outputs": [
    {
     "name": "stdout",
     "output_type": "stream",
     "text": [
      "{'level': [1, 2, 3, 4, 5, 5, 5, 5, 5, 5, 5, 5, 5, 5, 5, 4, 5, 5, 5, 5, 5, 5, 5, 5, 5, 5, 4, 5, 5, 5, 3, 4, 5, 5, 5, 5, 5, 5, 5, 4, 5, 5, 5, 5, 5, 5, 5, 4, 5, 5, 5, 5, 5, 5, 5, 5, 4, 5, 5, 5, 5, 5, 5, 5, 4, 5, 5, 5, 5, 5, 5, 5], 'page_num': [1, 1, 1, 1, 1, 1, 1, 1, 1, 1, 1, 1, 1, 1, 1, 1, 1, 1, 1, 1, 1, 1, 1, 1, 1, 1, 1, 1, 1, 1, 1, 1, 1, 1, 1, 1, 1, 1, 1, 1, 1, 1, 1, 1, 1, 1, 1, 1, 1, 1, 1, 1, 1, 1, 1, 1, 1, 1, 1, 1, 1, 1, 1, 1, 1, 1, 1, 1, 1, 1, 1, 1], 'block_num': [0, 1, 1, 1, 1, 1, 1, 1, 1, 1, 1, 1, 1, 1, 1, 1, 1, 1, 1, 1, 1, 1, 1, 1, 1, 1, 1, 1, 1, 1, 1, 1, 1, 1, 1, 1, 1, 1, 1, 1, 1, 1, 1, 1, 1, 1, 1, 1, 1, 1, 1, 1, 1, 1, 1, 1, 1, 1, 1, 1, 1, 1, 1, 1, 1, 1, 1, 1, 1, 1, 1, 1], 'par_num': [0, 0, 1, 1, 1, 1, 1, 1, 1, 1, 1, 1, 1, 1, 1, 1, 1, 1, 1, 1, 1, 1, 1, 1, 1, 1, 1, 1, 1, 1, 2, 2, 2, 2, 2, 2, 2, 2, 2, 2, 2, 2, 2, 2, 2, 2, 2, 2, 2, 2, 2, 2, 2, 2, 2, 2, 2, 2, 2, 2, 2, 2, 2, 2, 2, 2, 2, 2, 2, 2, 2, 2], 'line_num': [0, 0, 0, 1, 1, 1, 1, 1, 1, 1, 1, 1, 1, 1, 1, 2, 2, 2, 2, 2, 2, 2, 2, 2, 2, 2, 3, 3, 3, 3, 0, 1, 1, 1, 1, 1, 1, 1, 1, 2, 2, 2, 2, 2, 2, 2, 2, 3, 3, 3, 3, 3, 3, 3, 3, 3, 4, 4, 4, 4, 4, 4, 4, 4, 5, 5, 5, 5, 5, 5, 5, 5], 'word_num': [0, 0, 0, 0, 1, 2, 3, 4, 5, 6, 7, 8, 9, 10, 11, 0, 1, 2, 3, 4, 5, 6, 7, 8, 9, 10, 0, 1, 2, 3, 0, 0, 1, 2, 3, 4, 5, 6, 7, 0, 1, 2, 3, 4, 5, 6, 7, 0, 1, 2, 3, 4, 5, 6, 7, 8, 0, 1, 2, 3, 4, 5, 6, 7, 0, 1, 2, 3, 4, 5, 6, 7], 'left': [0, 36, 36, 36, 36, 109, 141, 169, 212, 251, 296, 374, 437, 474, 536, 36, 36, 91, 172, 236, 299, 325, 348, 445, 500, 541, 36, 36, 72, 123, 36, 36, 36, 102, 189, 287, 348, 468, 540, 37, 37, 103, 165, 232, 319, 417, 478, 36, 36, 109, 165, 231, 294, 360, 447, 545, 43, 43, 162, 235, 292, 357, 420, 486, 37, 37, 135, 196, 316, 388, 445, 511], 'top': [0, 92, 92, 92, 92, 92, 98, 92, 92, 92, 92, 93, 93, 93, 92, 126, 132, 126, 126, 132, 126, 126, 126, 132, 126, 127, 160, 160, 160, 160, 194, 194, 194, 194, 194, 194, 194, 200, 194, 228, 228, 228, 228, 228, 228, 228, 228, 262, 268, 262, 262, 262, 262, 262, 262, 262, 296, 296, 302, 296, 296, 296, 296, 296, 330, 330, 330, 330, 336, 330, 330, 330], 'width': [640, 582, 582, 544, 60, 20, 15, 32, 28, 31, 68, 53, 26, 52, 44, 582, 45, 69, 51, 50, 15, 14, 85, 33, 29, 77, 187, 28, 41, 100, 561, 549, 55, 75, 85, 52, 108, 63, 45, 548, 55, 50, 55, 75, 85, 51, 107, 561, 63, 44, 56, 50, 55, 75, 85, 52, 518, 107, 64, 44, 55, 50, 55, 75, 524, 85, 52, 108, 63, 45, 55, 50], 'height': [480, 269, 92, 30, 24, 24, 18, 24, 24, 24, 30, 23, 23, 23, 24, 31, 18, 24, 24, 18, 24, 24, 24, 18, 24, 30, 24, 24, 24, 24, 167, 31, 24, 30, 24, 31, 31, 18, 24, 31, 31, 24, 24, 30, 24, 31, 31, 31, 18, 24, 31, 24, 24, 30, 24, 31, 31, 31, 18, 24, 31, 24, 24, 30, 31, 24, 31, 31, 18, 24, 31, 24], 'conf': [-1, -1, -1, -1, 96, 96, 96, 96, 96, 96, 96, 96, 96, 96, 96, -1, 95, 95, 96, 96, 93, 93, 96, 93, 93, 96, -1, 96, 95, 95, -1, -1, 96, 96, 96, 96, 96, 96, 96, -1, 96, 96, 96, 96, 96, 96, 95, -1, 96, 96, 96, 96, 96, 96, 96, 96, -1, 96, 96, 96, 95, 96, 96, 96, -1, 96, 96, 96, 96, 96, 95, 96], 'text': ['', '', '', '', 'This', 'is', 'a', 'lot', 'of', '12', 'point', 'text', 'to', 'test', 'the', '', 'ocr', 'code', 'and', 'see', 'if', 'it', 'works', 'on', 'all', 'types', '', 'of', 'file', 'format.', '', '', 'The', 'quick', 'brown', 'dog', 'jumped', 'over', 'the', '', 'lazy', 'fox.', 'The', 'quick', 'brown', 'dog', 'jumped', '', 'over', 'the', 'lazy', 'fox.', 'The', 'quick', 'brown', 'dog', '', 'jumped', 'over', 'the', 'lazy', 'fox.', 'The', 'quick', '', 'brown', 'dog', 'jumped', 'over', 'the', 'lazy', 'fox.']}\n"
     ]
    }
   ],
   "source": [
    "text = tes.image_to_string(img)\n",
    "data = tes.image_to_data(img,output_type=tes.Output.DICT)\n",
    "print(data)"
   ]
  },
  {
   "cell_type": "code",
   "execution_count": 36,
   "metadata": {},
   "outputs": [],
   "source": [
    "left = data['left']\n",
    "top = data['top']\n",
    "width = data['width']\n",
    "height = data['height']\n",
    "test = data['text']\n",
    "conf = data['conf']"
   ]
  },
  {
   "cell_type": "code",
   "execution_count": 37,
   "metadata": {},
   "outputs": [
    {
     "name": "stdout",
     "output_type": "stream",
     "text": [
      "4\n"
     ]
    }
   ],
   "source": [
    "count = 0\n",
    "for i in range(len(test)):\n",
    "    if test[i]=='':\n",
    "        continue\n",
    "    else:\n",
    "        if test[i] == 'dog':\n",
    "            cv2.rectangle(img,pt1=(left[i],top[i]),pt2=(left[i]+width[i],top[i]+height[i]),color=(125,0,0),thickness=3)\n",
    "            count+=1\n",
    "cv2.imshow('test',img)\n",
    "cv2.waitKey()\n",
    "cv2.destroyAllWindows()\n",
    "print(count)"
   ]
  },
  {
   "cell_type": "code",
   "execution_count": 38,
   "metadata": {},
   "outputs": [
    {
     "name": "stdout",
     "output_type": "stream",
     "text": [
      "4\n"
     ]
    }
   ],
   "source": [
    "count = 0\n",
    "for i in range(len(test)):\n",
    "    if test[i]=='':\n",
    "        continue\n",
    "    else:\n",
    "        if test[i] == 'dog':\n",
    "            cv2.rectangle(img,pt1=(left[i],top[i]),pt2=(left[i]+width[i],top[i]+height[i]),color=(125,0,0),thickness=3)\n",
    "            count+=1\n",
    "cv2.putText(img,text=\"dog count =\"+str(count),org=(30,450),fontFace=cv2.FONT_HERSHEY_COMPLEX,color=(0,255,0),fontScale=1,thickness=4)\n",
    "cv2.imshow('test',img)\n",
    "cv2.waitKey()\n",
    "cv2.destroyAllWindows()\n",
    "print(count)"
   ]
  },
  {
   "cell_type": "code",
   "execution_count": null,
   "metadata": {},
   "outputs": [],
   "source": []
  }
 ],
 "metadata": {
  "kernelspec": {
   "display_name": ".venv",
   "language": "python",
   "name": "python3"
  },
  "language_info": {
   "codemirror_mode": {
    "name": "ipython",
    "version": 3
   },
   "file_extension": ".py",
   "mimetype": "text/x-python",
   "name": "python",
   "nbconvert_exporter": "python",
   "pygments_lexer": "ipython3",
   "version": "3.12.3"
  }
 },
 "nbformat": 4,
 "nbformat_minor": 2
}
