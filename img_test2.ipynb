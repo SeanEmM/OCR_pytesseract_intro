{
 "cells": [
  {
   "cell_type": "code",
   "execution_count": 1,
   "metadata": {},
   "outputs": [],
   "source": [
    "import pytesseract as tes\n",
    "import cv2"
   ]
  },
  {
   "cell_type": "code",
   "execution_count": 5,
   "metadata": {},
   "outputs": [],
   "source": [
    "img = cv2.imread('2.jpg')\n",
    "cv2.imshow(\"second\",img)\n",
    "cv2.waitKey()\n",
    "cv2.destroyAllWindows()"
   ]
  },
  {
   "cell_type": "code",
   "execution_count": 6,
   "metadata": {},
   "outputs": [],
   "source": [
    "tes.pytesseract.tesseract_cmd = r\"C:\\Program Files\\Tesseract-OCR\\tesseract.exe\""
   ]
  },
  {
   "cell_type": "code",
   "execution_count": 7,
   "metadata": {},
   "outputs": [
    {
     "name": "stdout",
     "output_type": "stream",
     "text": [
      "Your Company f\n",
      "\n",
      "INVOICE\n",
      "\n",
      "Billed To Invoice Number Invoice Total\n",
      "\n",
      "Client Name 00001 $6284.00\n",
      "\n",
      "Street Address\n",
      "\n",
      "City, State, Country Date Of Issue\n",
      "\n",
      "Zip Code 7/19/2018\n",
      "\n",
      "Description Unit Cost Qty / Hr Rate Amount\n",
      "Service/item $1000 1 $1000\n",
      "\n",
      "Deliverable description here\n",
      "\n",
      "Service/item $1000 1 $1000\n",
      "Delive\n",
      "\n",
      "ble description here\n",
      "\n",
      "Service/Item $1000 i $1000\n",
      "Deliverable description here\n",
      "Service/Item $1000 q $1000\n",
      "Deliverable description here\n",
      "Subtotal $4000\n",
      "Invoice Terms\n",
      "Tax $520\n",
      "Ex. Please invoice by...\n",
      "~ \" Total $4520\n",
      "It was a pleasure working with you.\n",
      "Amount Due (USD) $4520\n",
      "\n",
      "Ly] Revenued\n",
      "\n"
     ]
    }
   ],
   "source": [
    "text = tes.image_to_string(img)\n",
    "print(text)"
   ]
  },
  {
   "cell_type": "code",
   "execution_count": null,
   "metadata": {},
   "outputs": [],
   "source": []
  }
 ],
 "metadata": {
  "kernelspec": {
   "display_name": "Python 3",
   "language": "python",
   "name": "python3"
  },
  "language_info": {
   "codemirror_mode": {
    "name": "ipython",
    "version": 3
   },
   "file_extension": ".py",
   "mimetype": "text/x-python",
   "name": "python",
   "nbconvert_exporter": "python",
   "pygments_lexer": "ipython3",
   "version": "3.12.3"
  }
 },
 "nbformat": 4,
 "nbformat_minor": 2
}
