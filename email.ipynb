{
 "cells": [
  {
   "cell_type": "code",
   "execution_count": 11,
   "metadata": {},
   "outputs": [],
   "source": [
    "import pytesseract as tes\n",
    "import cv2"
   ]
  },
  {
   "cell_type": "code",
   "execution_count": 12,
   "metadata": {},
   "outputs": [],
   "source": [
    "img = cv2.imread('email.png')\n",
    "cv2.imshow('email',img)\n",
    "cv2.waitKey()\n",
    "cv2.destroyAllWindows()"
   ]
  },
  {
   "cell_type": "code",
   "execution_count": 13,
   "metadata": {},
   "outputs": [],
   "source": [
    "tes.pytesseract.tesseract_cmd = r'C:\\Program Files\\Tesseract-OCR\\tesseract.exe'"
   ]
  },
  {
   "cell_type": "code",
   "execution_count": 14,
   "metadata": {},
   "outputs": [
    {
     "name": "stdout",
     "output_type": "stream",
     "text": [
      "['', '', '', '', ' ', '', '', '', \"Email-id's\", '', 'person1@example.com', '', 'personS@example.com', '', 'person8@example.com', '', 'randomgroupmaill@example.com', '', 'randomgroupmail2@example.com', '', 'randomgroupmail3@example.com', '', 'person1@example.com', '', 'personS@example.com', '', 'person8@example.com', '', 'randomgroupmaill@example.com', '', 'randomgroupmail2@example.com', '', 'randomgroupmail3@example.com', '', 'person1@example.com', '', 'personS@example.com', '', 'person8@example.com', '', 'randomgroupmaill@example.com', '', 'randomgroupmail2@example.com', '', 'randomgroupmail3@example.com', '', '', '', ' ', '', '', '', 'These', 'are', 'Individual', \"Id's\", '', '', '', 'These', 'are', 'group', 'Mail', 'Id’s', 'which', 'have', '3', '', 'individual', \"id's\", 'inside', 'them', '', '', '', 'These', 'are', 'Individual', \"Id's\", '', '', '', 'These', 'are', 'group', 'Mail', 'Id’s', 'which', 'have', '3', '', 'individual', \"id's\", 'inside', 'them', '', '', '', 'These', 'are', 'Individual', \"Id's\", '', '', '', 'These', 'are', 'group', 'Mail', 'Id’s', 'which', 'have', '3', '', 'individual', \"id's\", 'inside', 'them']\n"
     ]
    }
   ],
   "source": [
    "data = tes.image_to_data(img,output_type=tes.Output.DICT)\n",
    "print(data['text'])"
   ]
  },
  {
   "cell_type": "code",
   "execution_count": 15,
   "metadata": {},
   "outputs": [],
   "source": [
    "import re"
   ]
  },
  {
   "cell_type": "code",
   "execution_count": 16,
   "metadata": {},
   "outputs": [
    {
     "name": "stdout",
     "output_type": "stream",
     "text": [
      "person1@example.com\n",
      "personS@example.com\n",
      "person8@example.com\n",
      "randomgroupmaill@example.com\n",
      "randomgroupmail2@example.com\n",
      "randomgroupmail3@example.com\n",
      "person1@example.com\n",
      "personS@example.com\n",
      "person8@example.com\n",
      "randomgroupmaill@example.com\n",
      "randomgroupmail2@example.com\n",
      "randomgroupmail3@example.com\n",
      "person1@example.com\n",
      "personS@example.com\n",
      "person8@example.com\n",
      "randomgroupmaill@example.com\n",
      "randomgroupmail2@example.com\n",
      "randomgroupmail3@example.com\n"
     ]
    }
   ],
   "source": [
    "n = len(data['text'])\n",
    "for i in range(n):\n",
    "    if re.search(r'^[a-zA-Z0-9._%+-]+@[a-zA-Z0-9.-]+\\.[a-zA-Z]{2,}$',data['text'][i]):\n",
    "        print(data['text'][i])\n",
    "        cv2.rectangle(img,pt1=(data['left'][i],data['top'][i]),pt2=(data['left'][i]+data['width'][i],data['top'][i]+data['height'][i]),color=(125,0,0),thickness=3)\n",
    "cv2.imshow('test',img)\n",
    "cv2.waitKey()\n",
    "cv2.destroyAllWindows()"
   ]
  }
 ],
 "metadata": {
  "kernelspec": {
   "display_name": ".venv",
   "language": "python",
   "name": "python3"
  },
  "language_info": {
   "codemirror_mode": {
    "name": "ipython",
    "version": 3
   },
   "file_extension": ".py",
   "mimetype": "text/x-python",
   "name": "python",
   "nbconvert_exporter": "python",
   "pygments_lexer": "ipython3",
   "version": "3.12.3"
  }
 },
 "nbformat": 4,
 "nbformat_minor": 2
}
